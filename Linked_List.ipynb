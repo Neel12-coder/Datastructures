{
  "nbformat": 4,
  "nbformat_minor": 0,
  "metadata": {
    "colab": {
      "provenance": [],
      "authorship_tag": "ABX9TyNziF1JwVl7vP2lss0dfETD",
      "include_colab_link": true
    },
    "kernelspec": {
      "name": "python3",
      "display_name": "Python 3"
    },
    "language_info": {
      "name": "python"
    }
  },
  "cells": [
    {
      "cell_type": "markdown",
      "metadata": {
        "id": "view-in-github",
        "colab_type": "text"
      },
      "source": [
        "<a href=\"https://colab.research.google.com/github/Neel12-coder/Datastructures/blob/main/Linked_List.ipynb\" target=\"_parent\"><img src=\"https://colab.research.google.com/assets/colab-badge.svg\" alt=\"Open In Colab\"/></a>"
      ]
    },
    {
      "cell_type": "markdown",
      "source": [
        "Linked List In Python"
      ],
      "metadata": {
        "id": "PiTQU7wZoVnm"
      }
    },
    {
      "cell_type": "code",
      "source": [
        "class Node:\n",
        "  def __init__(self,data):\n",
        "    self.data = data\n",
        "    self.next = None\n",
        "\n",
        "class LinkedList:\n",
        "   def __init__(self):\n",
        "    self.head = None\n",
        "\n",
        "   def insertAtBegin(self,data):\n",
        "    new_node = Node(data)\n",
        "\n",
        "    if self.head == None:\n",
        "      self.head = new_node\n",
        "      return\n",
        "    else:\n",
        "      new_node.next = self.head\n",
        "      self.head = new_node\n",
        "\n",
        "   def insertAtIndex(self,data,index):\n",
        "    new_node = Node(data)\n",
        "    position = 0\n",
        "    current_node = self.head\n",
        "\n",
        "    if index == position:\n",
        "      self.insertAtBegin(data)\n",
        "    else:\n",
        "      while(current_node and position+1!=index):\n",
        "        position = position + 1\n",
        "        current_node = current_node.next\n",
        "\n",
        "      if current_node != None:\n",
        "        new_node.next = current_node.next\n",
        "        current_node.next = new_node\n",
        "      else:\n",
        "        print(\"Index not found!\")\n",
        "\n",
        "   def removeFromBegin(self):\n",
        "    if self.head == None:\n",
        "      return\n",
        "    else:\n",
        "      self.head = self.head.next\n",
        "\n",
        "   def removeFromIndex(self,index):\n",
        "    position = 0\n",
        "    current_node = self.head\n",
        "\n",
        "    if index == position:\n",
        "      self.removeFromBegin()\n",
        "    else:\n",
        "      while(current_node and position+1!=index):\n",
        "        position = position + 1\n",
        "        current_node = current_node.next\n",
        "\n",
        "      if current_node != None:\n",
        "        current_node.next = current_node.next.next\n",
        "      else:\n",
        "        print(\"Index not found!\")\n",
        "\n",
        "   def insertAtend(self,data):\n",
        "    new_node = Node(data)\n",
        "    if self.head == None:\n",
        "      self.head = new_node\n",
        "      return\n",
        "\n",
        "    current_node = self.head\n",
        "    while (current_node.next != None):\n",
        "      current_node = current_node.next\n",
        "\n",
        "    current_node.next = new_node\n",
        "\n",
        "   def updateData(self,data, val):\n",
        "    current_node = self.head\n",
        "\n",
        "    while(current_node.data != data and current_node != None):\n",
        "      current_node = current_node.next\n",
        "\n",
        "\n",
        "    if current_node == None:\n",
        "      print(\"Data not found\")\n",
        "    else:\n",
        "      current_node.data = val\n",
        "\n",
        "\n",
        "   def sizeOfAll(self):\n",
        "    current_node = self.head\n",
        "    size = 0\n",
        "    while (current_node):\n",
        "      size = size + 1\n",
        "      current_node = current_node.next\n",
        "    return size\n",
        "\n",
        "   def printList(self):\n",
        "    current_node = self.head\n",
        "    while(current_node):\n",
        "      print(current_node.data,end=\" \")\n",
        "      current_node = current_node.next\n",
        "\n",
        "\n",
        "list = LinkedList()\n",
        "list.insertAtBegin(5)\n",
        "list.printList()\n",
        "list.insertAtend(10)\n",
        "list.printList()\n",
        "list.insertAtIndex(15,1)\n",
        "list.printList()\n",
        "list.insertAtBegin(9)\n",
        "list.printList()\n",
        "print(\"\\n size\")\n",
        "size = list.sizeOfAll()\n",
        "print(size)\n",
        "print(\"New seq\")\n",
        "list.removeFromBegin()\n",
        "list.printList()\n",
        "print(\"Removing\\n\")\n",
        "list.removeFromIndex(2)\n",
        "list.printList()\n",
        "list.updateData(15,50)\n",
        "list.printList()\n"
      ],
      "metadata": {
        "colab": {
          "base_uri": "https://localhost:8080/"
        },
        "id": "CwLs1X-oocw6",
        "outputId": "27f03f6f-f625-49b6-8d8f-abacc3fb908b"
      },
      "execution_count": 15,
      "outputs": [
        {
          "output_type": "stream",
          "name": "stdout",
          "text": [
            "5 5 10 5 15 10 9 5 15 10 \n",
            " size\n",
            "4\n",
            "New seq\n",
            "5 15 10 Removing\n",
            "\n",
            "5 15 5 50 "
          ]
        }
      ]
    },
    {
      "cell_type": "code",
      "source": [],
      "metadata": {
        "id": "LJzBAoh-g0dR"
      },
      "execution_count": null,
      "outputs": []
    }
  ]
}